{
 "cells": [
  {
   "cell_type": "markdown",
   "metadata": {
    "collapsed": true
   },
   "source": [
    "# Simpson's Paradox\n",
    "Use `admission_data.csv` for this exercise."
   ]
  },
  {
   "cell_type": "code",
   "execution_count": 4,
   "metadata": {},
   "outputs": [
    {
     "name": "stdout",
     "output_type": "stream",
     "text": [
      "   student_id  gender      major  admitted\n",
      "0       35377  female  Chemistry     False\n",
      "1       56105    male    Physics      True\n",
      "2       31441  female  Chemistry     False\n",
      "3       51765    male    Physics      True\n",
      "4       53714  female    Physics      True\n"
     ]
    }
   ],
   "source": [
    "# Load and view first few lines of dataset\n",
    "import pandas as pd\n",
    "data=pd.read_csv(\"admission_data.csv\")\n",
    "print(data.head())"
   ]
  },
  {
   "cell_type": "markdown",
   "metadata": {},
   "source": [
    "### Proportion and admission rate for each gender"
   ]
  },
  {
   "cell_type": "code",
   "execution_count": 16,
   "metadata": {},
   "outputs": [
    {
     "name": "stdout",
     "output_type": "stream",
     "text": [
      "   student_id  gender      major  admitted\n",
      "0       35377  female  Chemistry     False\n",
      "2       31441  female  Chemistry     False\n",
      "4       53714  female    Physics      True\n",
      "5       50693  female  Chemistry     False\n",
      "7       27648  female  Chemistry      True\n",
      "0.514\n"
     ]
    }
   ],
   "source": [
    "# Proportion of students that are female\n",
    "female=data[data[\"gender\"]==\"female\"]\n",
    "print(female.head())\n",
    "print(len(female)/len(data))"
   ]
  },
  {
   "cell_type": "code",
   "execution_count": 17,
   "metadata": {},
   "outputs": [
    {
     "name": "stdout",
     "output_type": "stream",
     "text": [
      "   student_id gender    major  admitted\n",
      "1       56105   male  Physics      True\n",
      "3       51765   male  Physics      True\n",
      "6       25946   male  Physics      True\n",
      "8       55247   male  Physics     False\n",
      "9       35838   male  Physics      True\n",
      "0.486\n"
     ]
    }
   ],
   "source": [
    "# Proportion of students that are male\n",
    "male=data[data[\"gender\"]==\"male\"]\n",
    "print(male.head())\n",
    "print(len(male)/len(data))"
   ]
  },
  {
   "cell_type": "code",
   "execution_count": 22,
   "metadata": {},
   "outputs": [
    {
     "name": "stdout",
     "output_type": "stream",
     "text": [
      "0.28793774319066145\n"
     ]
    }
   ],
   "source": [
    "# Admission rate for females\n",
    "\n",
    "female_admision=len(female[female['admitted']])/len(female)\n",
    "print(female_admision)"
   ]
  },
  {
   "cell_type": "code",
   "execution_count": 23,
   "metadata": {},
   "outputs": [
    {
     "name": "stdout",
     "output_type": "stream",
     "text": [
      "0.48559670781893005\n"
     ]
    }
   ],
   "source": [
    "# Admission rate for males\n",
    "male_admision=len(male[male['admitted']])/len(male)\n",
    "print(male_admision)"
   ]
  },
  {
   "cell_type": "markdown",
   "metadata": {},
   "source": [
    "### Proportion and admission rate for physics majors of each gender"
   ]
  },
  {
   "cell_type": "code",
   "execution_count": 27,
   "metadata": {},
   "outputs": [
    {
     "name": "stdout",
     "output_type": "stream",
     "text": [
      "0.12062256809338522\n"
     ]
    }
   ],
   "source": [
    "# What proportion of female students are majoring in physics?\n",
    "prop_female_phys=len(female[female['major']==\"Physics\"])/len(female)\n",
    "print(prop_female_phys)"
   ]
  },
  {
   "cell_type": "code",
   "execution_count": 28,
   "metadata": {},
   "outputs": [
    {
     "name": "stdout",
     "output_type": "stream",
     "text": [
      "0.9259259259259259\n"
     ]
    }
   ],
   "source": [
    "# What proportion of male students are majoring in physics?\n",
    "prop_male_phys=len(male[male['major']==\"Physics\"])/len(male)\n",
    "print(prop_male_phys)"
   ]
  },
  {
   "cell_type": "code",
   "execution_count": 30,
   "metadata": {},
   "outputs": [
    {
     "name": "stdout",
     "output_type": "stream",
     "text": [
      "0.7419354838709677\n"
     ]
    }
   ],
   "source": [
    "# Admission rate for female physics majors\n",
    "female_physics=female[female['major']==\"Physics\"]\n",
    "female_phys_addmited=female_physics[female_physics['admitted']]\n",
    "\n",
    "addm_rate_female_phys=len(female_phys_addmited)/len(female_physics)\n",
    "print(addm_rate_female_phys)"
   ]
  },
  {
   "cell_type": "code",
   "execution_count": 31,
   "metadata": {},
   "outputs": [
    {
     "name": "stdout",
     "output_type": "stream",
     "text": [
      "0.5155555555555555\n"
     ]
    }
   ],
   "source": [
    "# Admission rate for male physics majors\n",
    "male_physics=male[male['major']==\"Physics\"]\n",
    "male_phys_addmited=male_physics[male_physics['admitted']]\n",
    "\n",
    "addm_rate_male_phys=len(male_phys_addmited)/len(male_physics)\n",
    "print(addm_rate_male_phys)"
   ]
  },
  {
   "cell_type": "markdown",
   "metadata": {},
   "source": [
    "### Proportion and admission rate for chemistry majors of each gender"
   ]
  },
  {
   "cell_type": "code",
   "execution_count": 32,
   "metadata": {},
   "outputs": [
    {
     "name": "stdout",
     "output_type": "stream",
     "text": [
      "0.8793774319066148\n"
     ]
    }
   ],
   "source": [
    "# What proportion of female students are majoring in chemistry?\n",
    "prop_female_chem=len(female[female['major']==\"Chemistry\"])/len(female)\n",
    "print(prop_female_chem)"
   ]
  },
  {
   "cell_type": "code",
   "execution_count": 33,
   "metadata": {},
   "outputs": [
    {
     "name": "stdout",
     "output_type": "stream",
     "text": [
      "0.07407407407407407\n"
     ]
    }
   ],
   "source": [
    "# What proportion of male students are majoring in chemistry?\n",
    "prop_male_chem=len(male[male['major']==\"Chemistry\"])/len(male)\n",
    "print(prop_male_chem)"
   ]
  },
  {
   "cell_type": "code",
   "execution_count": 36,
   "metadata": {},
   "outputs": [
    {
     "name": "stdout",
     "output_type": "stream",
     "text": [
      "0.22566371681415928\n"
     ]
    }
   ],
   "source": [
    "# Admission rate for female chemistry majors\n",
    "female_chem=female[female['major']==\"Chemistry\"]\n",
    "female_chem_addmited=female_chem[female_chem['admitted']]\n",
    "\n",
    "addm_rate_female_chem=len(female_chem_addmited)/len(female_chem)\n",
    "print(addm_rate_female_chem)"
   ]
  },
  {
   "cell_type": "code",
   "execution_count": 37,
   "metadata": {},
   "outputs": [
    {
     "name": "stdout",
     "output_type": "stream",
     "text": [
      "0.1111111111111111\n"
     ]
    }
   ],
   "source": [
    "# Admission rate for male chemistry majors\n",
    "male_chem=male[male['major']==\"Chemistry\"]\n",
    "male_chem_addmited=male_chem[male_chem['admitted']]\n",
    "\n",
    "addm_rate_male_chem=len(male_chem_addmited)/len(male_chem)\n",
    "print(addm_rate_male_chem)"
   ]
  },
  {
   "cell_type": "markdown",
   "metadata": {},
   "source": [
    "### Admission rate for each major"
   ]
  },
  {
   "cell_type": "code",
   "execution_count": 44,
   "metadata": {},
   "outputs": [
    {
     "name": "stdout",
     "output_type": "stream",
     "text": [
      "0.54296875\n"
     ]
    }
   ],
   "source": [
    "# Admission rate for physics majors\n",
    "data_phys_addm=data[(data['major']=='Physics')&data['admitted']]\n",
    "\n",
    "data_phys=data[data['major']=='Physics']\n",
    "addm_rate_phys=len(data_phys_addm)/len(data_phys)\n",
    "print(addm_rate_phys)"
   ]
  },
  {
   "cell_type": "code",
   "execution_count": 45,
   "metadata": {},
   "outputs": [
    {
     "name": "stdout",
     "output_type": "stream",
     "text": [
      "0.21721311475409835\n"
     ]
    }
   ],
   "source": [
    "# Admission rate for chemistry majors\n",
    "data_chem_addm=data[(data['major']=='Chemistry')&data['admitted']]\n",
    "\n",
    "data_chem=data[data['major']=='Chemistry']\n",
    "addm_rate_chem=len(data_chem_addm)/len(data_chem)\n",
    "print(addm_rate_chem)"
   ]
  }
 ],
 "metadata": {
  "kernelspec": {
   "display_name": "Python 3",
   "language": "python",
   "name": "python3"
  },
  "language_info": {
   "codemirror_mode": {
    "name": "ipython",
    "version": 3
   },
   "file_extension": ".py",
   "mimetype": "text/x-python",
   "name": "python",
   "nbconvert_exporter": "python",
   "pygments_lexer": "ipython3",
   "version": "3.6.3"
  }
 },
 "nbformat": 4,
 "nbformat_minor": 2
}
